{
 "cells": [
  {
   "cell_type": "markdown",
   "metadata": {},
   "source": [
    "# 論理回路をパーセプトロンで表現\n",
    "\n",
    "パーセプトロン : 単層のネットワークであり、活性化関数にステップ関数を使用\n",
    "\n",
    "- x : 入力\n",
    "- w : 重み（各入力の重要度を表す）\n",
    "- b : バイアス（発火のしやすさを表す）\n",
    "- a : ニューロンへの入力の総和\n",
    "- h : 活性化関数（今回はステップ関数）\n",
    "- y : 出力\n",
    "\n",
    "\\begin{equation} {}\n",
    "    a = (x1 * w1 + x2 * w2) + b \\\\\n",
    "    y = h(a)\n",
    "\\end{equation}"
   ]
  },
  {
   "cell_type": "code",
   "execution_count": 61,
   "metadata": {
    "collapsed": true
   },
   "outputs": [],
   "source": [
    "import numpy as np"
   ]
  },
  {
   "cell_type": "code",
   "execution_count": 68,
   "metadata": {
    "collapsed": false
   },
   "outputs": [],
   "source": [
    "# ステップ関数 h(a)\n",
    "def step(a):\n",
    "    if a <= 0:\n",
    "        return 0\n",
    "    elif a > 0:\n",
    "        return 1"
   ]
  },
  {
   "cell_type": "code",
   "execution_count": 63,
   "metadata": {
    "collapsed": true
   },
   "outputs": [],
   "source": [
    "# 1層\n",
    "def AND(x1, x2):\n",
    "    x = np.array([x1, x2])\n",
    "    w = np.array([0.6, 0.6])\n",
    "    b = -1.0\n",
    "    a = np.sum(x*w) + b\n",
    "    y = step(a)\n",
    "    return y\n",
    "\n",
    "# 1層\n",
    "def NAND(x1, x2):\n",
    "    x = np.array([x1, x2])\n",
    "    w = np.array([-0.6, -0.6])\n",
    "    b = 1.0\n",
    "    a = np.sum(x*w) + b\n",
    "    y = step(a)\n",
    "    return y\n",
    "\n",
    "# 1層\n",
    "def OR(x1, x2):\n",
    "    x = np.array([x1, x2])\n",
    "    w = np.array([0.6, 0.6])\n",
    "    b = -0.4\n",
    "    a = np.sum(x*w) + b\n",
    "    y = step(a)\n",
    "    return y\n",
    "\n",
    "# 2層\n",
    "def XOR(x1, x2):\n",
    "    s1 = NAND(x1, x2)\n",
    "    s2 = OR(x1, x2)\n",
    "    y = AND(s1, s2)\n",
    "    return y"
   ]
  },
  {
   "cell_type": "code",
   "execution_count": 64,
   "metadata": {
    "collapsed": false
   },
   "outputs": [
    {
     "name": "stdout",
     "output_type": "stream",
     "text": [
      "0 0 0 1\n"
     ]
    }
   ],
   "source": [
    "# ANDの確認\n",
    "print(AND(0, 0), end=\" \")\n",
    "print(AND(0, 1), end=\" \")\n",
    "print(AND(1, 0), end=\" \")\n",
    "print(AND(1, 1))"
   ]
  },
  {
   "cell_type": "code",
   "execution_count": 65,
   "metadata": {
    "collapsed": false
   },
   "outputs": [
    {
     "name": "stdout",
     "output_type": "stream",
     "text": [
      "1 1 1 0\n"
     ]
    }
   ],
   "source": [
    "# NANDの確認\n",
    "print(NAND(0, 0), end=\" \")\n",
    "print(NAND(0, 1), end=\" \")\n",
    "print(NAND(1, 0), end=\" \")\n",
    "print(NAND(1, 1))"
   ]
  },
  {
   "cell_type": "code",
   "execution_count": 66,
   "metadata": {
    "collapsed": false
   },
   "outputs": [
    {
     "name": "stdout",
     "output_type": "stream",
     "text": [
      "0 1 1 1\n"
     ]
    }
   ],
   "source": [
    "# ORの確認\n",
    "print(OR(0, 0), end=\" \")\n",
    "print(OR(0, 1), end=\" \")\n",
    "print(OR(1, 0), end=\" \")\n",
    "print(OR(1, 1))"
   ]
  },
  {
   "cell_type": "code",
   "execution_count": 67,
   "metadata": {
    "collapsed": false
   },
   "outputs": [
    {
     "name": "stdout",
     "output_type": "stream",
     "text": [
      "0 1 1 0\n"
     ]
    }
   ],
   "source": [
    "# XORの確認\n",
    "print(XOR(0, 0), end=\" \")\n",
    "print(XOR(0, 1), end=\" \")\n",
    "print(XOR(1, 0), end=\" \")\n",
    "print(XOR(1, 1))"
   ]
  },
  {
   "cell_type": "code",
   "execution_count": null,
   "metadata": {
    "collapsed": true
   },
   "outputs": [],
   "source": []
  }
 ],
 "metadata": {
  "kernelspec": {
   "display_name": "Python 3",
   "language": "python",
   "name": "python3"
  },
  "language_info": {
   "codemirror_mode": {
    "name": "ipython",
    "version": 3
   },
   "file_extension": ".py",
   "mimetype": "text/x-python",
   "name": "python",
   "nbconvert_exporter": "python",
   "pygments_lexer": "ipython3",
   "version": "3.6.0"
  }
 },
 "nbformat": 4,
 "nbformat_minor": 2
}
