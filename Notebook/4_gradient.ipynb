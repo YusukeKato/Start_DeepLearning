{
 "cells": [
  {
   "cell_type": "markdown",
   "metadata": {},
   "source": [
    "# 勾配\n",
    "\n",
    "- ある関数の偏微分\n",
    "- その関数の変化を表す\n",
    "- ロス関数の値を減らす方向が分かる"
   ]
  },
  {
   "cell_type": "code",
   "execution_count": 2,
   "metadata": {
    "collapsed": true
   },
   "outputs": [],
   "source": [
    "import numpy as np"
   ]
  },
  {
   "cell_type": "code",
   "execution_count": 3,
   "metadata": {
    "collapsed": true
   },
   "outputs": [],
   "source": [
    "# 数値微分\n",
    "def numerical_diff(f, x):\n",
    "    h = 0.0000000001\n",
    "    e = (f(x+h) - f(x-h)) / (2*h) # 中心差分\n",
    "    return e"
   ]
  },
  {
   "cell_type": "markdown",
   "metadata": {},
   "source": [
    "2つの変数を持つ関数\n",
    "\n",
    "\\begin{equation}\n",
    "  f(x_1, x_2) = x_1^2 + x_2^2\n",
    "\\end{equation}\n",
    "\n",
    "x1 = 2.0, x2 = 3.0のとき、偏微分を求める\n",
    "\n",
    "$$\n",
    "\\frac{\\partial f}{\\partial x_1}\n",
    "$$"
   ]
  },
  {
   "cell_type": "code",
   "execution_count": 4,
   "metadata": {
    "collapsed": true
   },
   "outputs": [],
   "source": [
    "def func1(x1):\n",
    "    x2 = 3.0\n",
    "    e = pow(x1, 2) + pow(x2, 2)\n",
    "    return e"
   ]
  },
  {
   "cell_type": "code",
   "execution_count": 5,
   "metadata": {
    "collapsed": false
   },
   "outputs": [
    {
     "data": {
      "text/plain": [
       "4.000000330961484"
      ]
     },
     "execution_count": 5,
     "metadata": {},
     "output_type": "execute_result"
    }
   ],
   "source": [
    "numerical_diff(func1, 2.0)"
   ]
  },
  {
   "cell_type": "markdown",
   "metadata": {},
   "source": [
    "# 勾配法\n",
    "\n",
    "- 勾配方向への移動を繰り返すことで、関数の値を減らす（または増やす方向）\n",
    "- ディープラーニングでは勾配降下法（ロス関数の値を減らすため）"
   ]
  },
  {
   "cell_type": "markdown",
   "metadata": {},
   "source": [
    "\\begin{equation}\n",
    "  x_n = x_n - \\eta\\frac{\\partial f}{\\partial x_n}\n",
    "\\end{equation}"
   ]
  },
  {
   "cell_type": "code",
   "execution_count": 14,
   "metadata": {
    "collapsed": true
   },
   "outputs": [],
   "source": [
    "def gradient(f, x):\n",
    "    h = 0.0000000001\n",
    "    g = np.zeros_like(x)\n",
    "    \n",
    "    for i in range(x.size):\n",
    "        # 偏微分 : 変数一つずつを対象に微分\n",
    "        tmp = x[i]\n",
    "        x[i] = tmp + h\n",
    "        f1 = f(x)\n",
    "        x[i] = tmp - h\n",
    "        f2 = f(x)\n",
    "        x[i] = tmp # 戻す\n",
    "        g[i] = (f1-f2) / (2*h)\n",
    "    \n",
    "    return g"
   ]
  },
  {
   "cell_type": "code",
   "execution_count": 15,
   "metadata": {
    "collapsed": true
   },
   "outputs": [],
   "source": [
    "def gradient_descent(f, x, le, step):\n",
    "    for i in range(step):\n",
    "        g = gradient(f, x)\n",
    "        x -= le * g\n",
    "    return x"
   ]
  },
  {
   "cell_type": "code",
   "execution_count": 16,
   "metadata": {
    "collapsed": true
   },
   "outputs": [],
   "source": [
    "def func2(x):\n",
    "    y = 2.0 * pow(x[0], 2.0) + 2.0 * pow(x[1], 2.0)\n",
    "    return y"
   ]
  },
  {
   "cell_type": "markdown",
   "metadata": {},
   "source": [
    "テスト\n",
    "\n",
    "\\begin{equation}\n",
    "  f(x_1, x_2) = 2x_1^2 + 2x_2^2\n",
    "\\end{equation}\n",
    "\n",
    "の最小値を求める\n",
    "\n",
    "解 : (0, 0)"
   ]
  },
  {
   "cell_type": "markdown",
   "metadata": {},
   "source": [
    "### 学習率について"
   ]
  },
  {
   "cell_type": "code",
   "execution_count": 20,
   "metadata": {
    "collapsed": false
   },
   "outputs": [
    {
     "data": {
      "text/plain": [
       "array([  3.26660446e-22,  -3.26660446e-22])"
      ]
     },
     "execution_count": 20,
     "metadata": {},
     "output_type": "execute_result"
    }
   ],
   "source": [
    "# 学習率 0.1(まあまあ適切)\n",
    "x = np.array([5.0, -5.0])\n",
    "gradient_descent(func2, x, 0.1, 100)"
   ]
  },
  {
   "cell_type": "code",
   "execution_count": 21,
   "metadata": {
    "collapsed": false
   },
   "outputs": [
    {
     "data": {
      "text/plain": [
       "array([-1244739.50700518,  1244739.50700518])"
      ]
     },
     "execution_count": 21,
     "metadata": {},
     "output_type": "execute_result"
    }
   ],
   "source": [
    "# 学習率 1.0（大きい）\n",
    "x = np.array([5.0, -5.0])\n",
    "gradient_descent(func2, x, 1.0, 100)"
   ]
  },
  {
   "cell_type": "code",
   "execution_count": 22,
   "metadata": {
    "collapsed": false
   },
   "outputs": [
    {
     "data": {
      "text/plain": [
       "array([ 0.08435156, -0.08435156])"
      ]
     },
     "execution_count": 22,
     "metadata": {},
     "output_type": "execute_result"
    }
   ],
   "source": [
    "# 学習率 0.01（小さい）\n",
    "x = np.array([5.0, -5.0])\n",
    "gradient_descent(func2, x, 0.01, 100)"
   ]
  },
  {
   "cell_type": "markdown",
   "metadata": {},
   "source": [
    "### ステップ数について"
   ]
  },
  {
   "cell_type": "code",
   "execution_count": 23,
   "metadata": {
    "collapsed": false
   },
   "outputs": [
    {
     "data": {
      "text/plain": [
       "array([ 0.03023296, -0.03023296])"
      ]
     },
     "execution_count": 23,
     "metadata": {},
     "output_type": "execute_result"
    }
   ],
   "source": [
    "# ステップ数 10\n",
    "x = np.array([5.0, -5.0])\n",
    "gradient_descent(func2, x, 0.1, 10)"
   ]
  },
  {
   "cell_type": "code",
   "execution_count": 25,
   "metadata": {
    "collapsed": false
   },
   "outputs": [
    {
     "data": {
      "text/plain": [
       "array([  6.17694113e-27,  -6.17694113e-27])"
      ]
     },
     "execution_count": 25,
     "metadata": {},
     "output_type": "execute_result"
    }
   ],
   "source": [
    "# ステップ数 1000\n",
    "x = np.array([5.0, -5.0])\n",
    "gradient_descent(func2, x, 0.1, 1000)"
   ]
  },
  {
   "cell_type": "code",
   "execution_count": 26,
   "metadata": {
    "collapsed": false
   },
   "outputs": [
    {
     "data": {
      "text/plain": [
       "array([  9.33690313e-18,  -9.33690313e-18])"
      ]
     },
     "execution_count": 26,
     "metadata": {},
     "output_type": "execute_result"
    }
   ],
   "source": [
    "# 学習率 0.01 ステップ数 1000\n",
    "x = np.array([5.0, -5.0])\n",
    "gradient_descent(func2, x, 0.01, 1000)"
   ]
  },
  {
   "cell_type": "code",
   "execution_count": null,
   "metadata": {
    "collapsed": true
   },
   "outputs": [],
   "source": []
  }
 ],
 "metadata": {
  "kernelspec": {
   "display_name": "Python 3",
   "language": "python",
   "name": "python3"
  },
  "language_info": {
   "codemirror_mode": {
    "name": "ipython",
    "version": 3
   },
   "file_extension": ".py",
   "mimetype": "text/x-python",
   "name": "python",
   "nbconvert_exporter": "python",
   "pygments_lexer": "ipython3",
   "version": "3.6.0"
  }
 },
 "nbformat": 4,
 "nbformat_minor": 2
}
